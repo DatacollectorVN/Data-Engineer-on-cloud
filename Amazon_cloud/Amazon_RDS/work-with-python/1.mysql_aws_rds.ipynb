{
 "cells": [
  {
   "cell_type": "code",
   "execution_count": 2,
   "metadata": {},
   "outputs": [],
   "source": [
    "import pymysql\n",
    "from config import config"
   ]
  },
  {
   "cell_type": "code",
   "execution_count": 4,
   "metadata": {},
   "outputs": [],
   "source": [
    "INI_FILE_PATH = '1.database_mysql_aws_rds.ini'\n",
    "SECTION = 'MySQL-AWS-RDS'"
   ]
  },
  {
   "cell_type": "markdown",
   "metadata": {},
   "source": [
    "Connect to `AWS RDS`."
   ]
  },
  {
   "cell_type": "code",
   "execution_count": 5,
   "metadata": {},
   "outputs": [],
   "source": [
    "# read connection parameters\n",
    "params = config(INI_FILE_PATH, SECTION)\n",
    "\n",
    "# connection\n",
    "conn = pymysql.connect(**params)\n",
    "\t\t\n",
    "# create a cursor\n",
    "cur = conn.cursor()"
   ]
  },
  {
   "cell_type": "markdown",
   "metadata": {},
   "source": [
    "Try query in `temp_db.customer` in `AWS RDS`."
   ]
  },
  {
   "cell_type": "code",
   "execution_count": 11,
   "metadata": {},
   "outputs": [
    {
     "data": {
      "text/plain": [
       "(('06b8999e2fba1a1fbc88172c00ba8bc7',\n",
       "  '861eff4711a542e4b93843c6dd7febb0',\n",
       "  Decimal('14409'),\n",
       "  'franca',\n",
       "  'SP'),\n",
       " ('18955e83d337fd6b2def6b18a428ac77',\n",
       "  '290c77bc529b7ac935b93aa66c333dc3',\n",
       "  Decimal('9790'),\n",
       "  'sao bernardo do campo',\n",
       "  'SP'))"
      ]
     },
     "execution_count": 11,
     "metadata": {},
     "output_type": "execute_result"
    }
   ],
   "source": [
    "query_1 = '''USE temp_db'''\n",
    "cur.execute(query_1)\n",
    "query_2 = '''SELECT * FROM customers LIMIT 2;'''\n",
    "cur.execute(query_2)\n",
    "cur.fetchall()"
   ]
  },
  {
   "cell_type": "markdown",
   "metadata": {},
   "source": [
    "Query with condtion."
   ]
  },
  {
   "cell_type": "code",
   "execution_count": 14,
   "metadata": {},
   "outputs": [
    {
     "data": {
      "text/plain": [
       "(('beleza_saude', 'health_beauty\\n'),\n",
       " ('utilidades_domesticas', 'housewares\\n'))"
      ]
     },
     "execution_count": 14,
     "metadata": {},
     "output_type": "execute_result"
    }
   ],
   "source": [
    "query_1 = '''USE temp_db'''\n",
    "cur.execute(query_1)\n",
    "query_2 = '''SELECT * FROM product_category_name_translation \n",
    "WHERE product_category_name_english LIKE 'h%'\n",
    "LIMIT 2;\n",
    "'''\n",
    "cur.execute(query_2)\n",
    "cur.fetchall()"
   ]
  },
  {
   "cell_type": "markdown",
   "metadata": {},
   "source": [
    "At the end of connection, we must close."
   ]
  },
  {
   "cell_type": "code",
   "execution_count": 15,
   "metadata": {},
   "outputs": [],
   "source": [
    "conn.close()"
   ]
  }
 ],
 "metadata": {
  "interpreter": {
   "hash": "c1d734292484f07cb6c71cd91bdab3e43523af597913d99621c67b37a8e0b5bd"
  },
  "kernelspec": {
   "display_name": "Python 3.8.13 ('amazoncloud')",
   "language": "python",
   "name": "python3"
  },
  "language_info": {
   "codemirror_mode": {
    "name": "ipython",
    "version": 3
   },
   "file_extension": ".py",
   "mimetype": "text/x-python",
   "name": "python",
   "nbconvert_exporter": "python",
   "pygments_lexer": "ipython3",
   "version": "3.8.13"
  },
  "orig_nbformat": 4
 },
 "nbformat": 4,
 "nbformat_minor": 2
}
