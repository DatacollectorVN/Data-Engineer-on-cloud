{
 "cells": [
  {
   "cell_type": "code",
   "execution_count": 2,
   "metadata": {},
   "outputs": [],
   "source": [
    "import pymysql\n",
    "from config import config"
   ]
  },
  {
   "cell_type": "code",
   "execution_count": 4,
   "metadata": {},
   "outputs": [],
   "source": [
    "INI_FILE_PATH = '1.database_mysql_aws_rds.ini'\n",
    "SECTION = 'MySQL-AWS-RDS'"
   ]
  },
  {
   "cell_type": "code",
   "execution_count": 5,
   "metadata": {},
   "outputs": [],
   "source": [
    "# read connection parameters\n",
    "params = config(INI_FILE_PATH, SECTION)\n",
    "\n",
    "# connection\n",
    "conn = pymysql.connect(**params)\n",
    "\t\t\n",
    "# create a cursor\n",
    "cur = conn.cursor()"
   ]
  },
  {
   "cell_type": "markdown",
   "metadata": {},
   "source": [
    "TRy some queries in `temp_db.customer` in `AWS RDS`."
   ]
  },
  {
   "cell_type": "code",
   "execution_count": null,
   "metadata": {},
   "outputs": [],
   "source": [
    "query = '''USE temp_db; SELECT * FRPM customer LIMIT 5;'''\n",
    "cur.execute(query)"
   ]
  }
 ],
 "metadata": {
  "interpreter": {
   "hash": "c1d734292484f07cb6c71cd91bdab3e43523af597913d99621c67b37a8e0b5bd"
  },
  "kernelspec": {
   "display_name": "Python 3.8.13 ('amazoncloud')",
   "language": "python",
   "name": "python3"
  },
  "language_info": {
   "codemirror_mode": {
    "name": "ipython",
    "version": 3
   },
   "file_extension": ".py",
   "mimetype": "text/x-python",
   "name": "python",
   "nbconvert_exporter": "python",
   "pygments_lexer": "ipython3",
   "version": "3.8.13"
  },
  "orig_nbformat": 4
 },
 "nbformat": 4,
 "nbformat_minor": 2
}
